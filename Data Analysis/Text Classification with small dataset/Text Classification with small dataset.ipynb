{
 "cells": [
  {
   "cell_type": "markdown",
   "source": [
    "## What is clickbait?\r\n",
    "Click bait is a form of false advertisement which uses a hyperlink text or a thumbnail link that is designed to attract attention and entice users to follow that link and read, view or listen to the linked piece of online content, with a defining charecteristic of being deceptive, typically sensationalized or misleading.\r\n",
    "https://towardsdatascience.com/text-classification-with-extremely-small-datasets-333d322caee2"
   ],
   "metadata": {}
  },
  {
   "cell_type": "code",
   "execution_count": 1,
   "source": [
    "import numpy as np\r\n",
    "import pandas as pd"
   ],
   "outputs": [],
   "metadata": {}
  },
  {
   "cell_type": "code",
   "execution_count": 6,
   "source": [
    "ls"
   ],
   "outputs": [
    {
     "output_type": "stream",
     "name": "stdout",
     "text": [
      " Volume in drive C has no label.\n",
      " Volume Serial Number is B4CF-A33C\n",
      "\n",
      " Directory of c:\\Users\\Arnab\\Documents\\GitHub\\arnabpro007.github.io\\Data Analysis\\Text Classification with small dataset\n",
      "\n",
      "31-08-2021  19:58    <DIR>          .\n",
      "31-08-2021  19:58    <DIR>          ..\n",
      "15-12-2016  17:25           923,965 clickbait_data\n",
      "15-12-2016  17:25           856,139 non_clickbait_data\n",
      "31-08-2021  16:00               579 Text Classification with small dataset.ipynb\n",
      "               3 File(s)      1,780,683 bytes\n",
      "               2 Dir(s)  950,237,097,984 bytes free\n"
     ]
    }
   ],
   "metadata": {}
  },
  {
   "cell_type": "code",
   "execution_count": 9,
   "source": [
    "#First challenge I am facing is even creating this dataset, as I can't use pandas to directly read it.\r\n",
    "with open(\"clickbait_data\") as file:\r\n",
    "    lines = file.readlines()\r\n",
    "    lines = [line.rstrip() for line in lines]\r\n",
    "\r\n",
    "#we are falsely adding white space in the list as well so we will remove those\r\n",
    "click_bait = []\r\n",
    "for ele in lines:\r\n",
    "    if ele.strip():\r\n",
    "        click_bait.append(ele)"
   ],
   "outputs": [],
   "metadata": {}
  },
  {
   "cell_type": "code",
   "execution_count": 11,
   "source": [
    "len(click_bait)"
   ],
   "outputs": [
    {
     "output_type": "execute_result",
     "data": {
      "text/plain": [
       "15999"
      ]
     },
     "metadata": {},
     "execution_count": 11
    }
   ],
   "metadata": {}
  },
  {
   "cell_type": "code",
   "execution_count": 17,
   "source": [
    "file.close()"
   ],
   "outputs": [],
   "metadata": {}
  },
  {
   "cell_type": "code",
   "execution_count": 19,
   "source": [
    "with open(\"non_clickbait_data\",encoding=\"utf8\") as file:\r\n",
    "    lines = file.readlines()\r\n",
    "    lines = [line.rstrip() for line in lines]\r\n",
    "\r\n",
    "#we are falsely adding white space in the list as well so we will remove those\r\n",
    "non_click_bait = []\r\n",
    "for ele in lines:\r\n",
    "    if ele.strip():\r\n",
    "        non_click_bait.append(ele)"
   ],
   "outputs": [],
   "metadata": {}
  },
  {
   "cell_type": "code",
   "execution_count": 20,
   "source": [
    "len(non_click_bait)"
   ],
   "outputs": [
    {
     "output_type": "execute_result",
     "data": {
      "text/plain": [
       "16001"
      ]
     },
     "metadata": {},
     "execution_count": 20
    }
   ],
   "metadata": {}
  },
  {
   "cell_type": "code",
   "execution_count": 21,
   "source": [
    "file.close()"
   ],
   "outputs": [],
   "metadata": {}
  },
  {
   "cell_type": "code",
   "execution_count": 30,
   "source": [
    "temp = non_click_bait + click_bait"
   ],
   "outputs": [],
   "metadata": {}
  },
  {
   "cell_type": "code",
   "execution_count": 31,
   "source": [
    "len(temp)"
   ],
   "outputs": [
    {
     "output_type": "execute_result",
     "data": {
      "text/plain": [
       "32000"
      ]
     },
     "metadata": {},
     "execution_count": 31
    }
   ],
   "metadata": {}
  },
  {
   "cell_type": "code",
   "execution_count": 39,
   "source": [
    "words = [\"clickbait\",\"not-clickbait\"]\r\n",
    "y =[]\r\n",
    "for i in range(15999):\r\n",
    "    y = y + [words[0]]\r\n",
    "for i in range(16001):\r\n",
    "    y = y + [words[1]]"
   ],
   "outputs": [],
   "metadata": {}
  },
  {
   "cell_type": "code",
   "execution_count": 42,
   "source": [
    "data = {\"title\":temp,\"label\":y}\r\n",
    "\r\n",
    "data = pd.DataFrame(data)"
   ],
   "outputs": [],
   "metadata": {}
  },
  {
   "cell_type": "code",
   "execution_count": 43,
   "source": [
    "display(data)"
   ],
   "outputs": [
    {
     "output_type": "display_data",
     "data": {
      "text/plain": [
       "                                                   title          label\n",
       "0      Bill Changing Credit Card Rules Is Sent to Oba...      clickbait\n",
       "1      In Hollywood, the Easy-Money Generation Toughe...      clickbait\n",
       "2      1700 runners still unaccounted for in UK's Lak...      clickbait\n",
       "3      Yankees Pitchers Trade Fielding Drills for Put...      clickbait\n",
       "4      Large earthquake rattles Indonesia; Seventh in...      clickbait\n",
       "...                                                  ...            ...\n",
       "31995  There Was A Mini \"Sisterhood Of The Traveling ...  not-clickbait\n",
       "31996    21 Dogs Who Are Thankful For Their Best Friends  not-clickbait\n",
       "31997  People Are Proving No Dick Is Too Big By Dropp...  not-clickbait\n",
       "31998                        I'm An Atheist, But I'm Not  not-clickbait\n",
       "31999  An Artist Drew Disney Men As Justin Bieber And...  not-clickbait\n",
       "\n",
       "[32000 rows x 2 columns]"
      ],
      "text/html": [
       "<div>\n",
       "<style scoped>\n",
       "    .dataframe tbody tr th:only-of-type {\n",
       "        vertical-align: middle;\n",
       "    }\n",
       "\n",
       "    .dataframe tbody tr th {\n",
       "        vertical-align: top;\n",
       "    }\n",
       "\n",
       "    .dataframe thead th {\n",
       "        text-align: right;\n",
       "    }\n",
       "</style>\n",
       "<table border=\"1\" class=\"dataframe\">\n",
       "  <thead>\n",
       "    <tr style=\"text-align: right;\">\n",
       "      <th></th>\n",
       "      <th>title</th>\n",
       "      <th>label</th>\n",
       "    </tr>\n",
       "  </thead>\n",
       "  <tbody>\n",
       "    <tr>\n",
       "      <th>0</th>\n",
       "      <td>Bill Changing Credit Card Rules Is Sent to Oba...</td>\n",
       "      <td>clickbait</td>\n",
       "    </tr>\n",
       "    <tr>\n",
       "      <th>1</th>\n",
       "      <td>In Hollywood, the Easy-Money Generation Toughe...</td>\n",
       "      <td>clickbait</td>\n",
       "    </tr>\n",
       "    <tr>\n",
       "      <th>2</th>\n",
       "      <td>1700 runners still unaccounted for in UK's Lak...</td>\n",
       "      <td>clickbait</td>\n",
       "    </tr>\n",
       "    <tr>\n",
       "      <th>3</th>\n",
       "      <td>Yankees Pitchers Trade Fielding Drills for Put...</td>\n",
       "      <td>clickbait</td>\n",
       "    </tr>\n",
       "    <tr>\n",
       "      <th>4</th>\n",
       "      <td>Large earthquake rattles Indonesia; Seventh in...</td>\n",
       "      <td>clickbait</td>\n",
       "    </tr>\n",
       "    <tr>\n",
       "      <th>...</th>\n",
       "      <td>...</td>\n",
       "      <td>...</td>\n",
       "    </tr>\n",
       "    <tr>\n",
       "      <th>31995</th>\n",
       "      <td>There Was A Mini \"Sisterhood Of The Traveling ...</td>\n",
       "      <td>not-clickbait</td>\n",
       "    </tr>\n",
       "    <tr>\n",
       "      <th>31996</th>\n",
       "      <td>21 Dogs Who Are Thankful For Their Best Friends</td>\n",
       "      <td>not-clickbait</td>\n",
       "    </tr>\n",
       "    <tr>\n",
       "      <th>31997</th>\n",
       "      <td>People Are Proving No Dick Is Too Big By Dropp...</td>\n",
       "      <td>not-clickbait</td>\n",
       "    </tr>\n",
       "    <tr>\n",
       "      <th>31998</th>\n",
       "      <td>I'm An Atheist, But I'm Not</td>\n",
       "      <td>not-clickbait</td>\n",
       "    </tr>\n",
       "    <tr>\n",
       "      <th>31999</th>\n",
       "      <td>An Artist Drew Disney Men As Justin Bieber And...</td>\n",
       "      <td>not-clickbait</td>\n",
       "    </tr>\n",
       "  </tbody>\n",
       "</table>\n",
       "<p>32000 rows × 2 columns</p>\n",
       "</div>"
      ]
     },
     "metadata": {}
    }
   ],
   "metadata": {}
  },
  {
   "cell_type": "code",
   "execution_count": 44,
   "source": [
    "#Now we will shuffle it and pick 10050 of it\r\n",
    "data = data.reindex(np.random.permutation(data.index))\r\n",
    "data = data[:10050]"
   ],
   "outputs": [],
   "metadata": {}
  },
  {
   "cell_type": "code",
   "execution_count": 45,
   "source": [
    "display(data)"
   ],
   "outputs": [
    {
     "output_type": "display_data",
     "data": {
      "text/plain": [
       "                                                   title          label\n",
       "9708           Doctors Face Fiscal Squeeze for Treatment      clickbait\n",
       "26860  7 Perfectly Appropriate Responses To Someone A...  not-clickbait\n",
       "24266         13 Insanely Easy Three-Ingredient Desserts  not-clickbait\n",
       "8296                    Home-invaders pose as NYC police      clickbait\n",
       "7848   Emergency spacewalks planned to fix Internatio...      clickbait\n",
       "...                                                  ...            ...\n",
       "27242  Can You Remember The First Episode Of \"Full Ho...  not-clickbait\n",
       "17915  Let's See How Well You Remember The First Epis...  not-clickbait\n",
       "17761  How Well Do You Remember The Lyrics To Panic! ...  not-clickbait\n",
       "23308     Are You More Severus Snape Or Albus Dumbledore  not-clickbait\n",
       "19985  Urban Decay Released A Gwen Stefani Palette An...  not-clickbait\n",
       "\n",
       "[10050 rows x 2 columns]"
      ],
      "text/html": [
       "<div>\n",
       "<style scoped>\n",
       "    .dataframe tbody tr th:only-of-type {\n",
       "        vertical-align: middle;\n",
       "    }\n",
       "\n",
       "    .dataframe tbody tr th {\n",
       "        vertical-align: top;\n",
       "    }\n",
       "\n",
       "    .dataframe thead th {\n",
       "        text-align: right;\n",
       "    }\n",
       "</style>\n",
       "<table border=\"1\" class=\"dataframe\">\n",
       "  <thead>\n",
       "    <tr style=\"text-align: right;\">\n",
       "      <th></th>\n",
       "      <th>title</th>\n",
       "      <th>label</th>\n",
       "    </tr>\n",
       "  </thead>\n",
       "  <tbody>\n",
       "    <tr>\n",
       "      <th>9708</th>\n",
       "      <td>Doctors Face Fiscal Squeeze for Treatment</td>\n",
       "      <td>clickbait</td>\n",
       "    </tr>\n",
       "    <tr>\n",
       "      <th>26860</th>\n",
       "      <td>7 Perfectly Appropriate Responses To Someone A...</td>\n",
       "      <td>not-clickbait</td>\n",
       "    </tr>\n",
       "    <tr>\n",
       "      <th>24266</th>\n",
       "      <td>13 Insanely Easy Three-Ingredient Desserts</td>\n",
       "      <td>not-clickbait</td>\n",
       "    </tr>\n",
       "    <tr>\n",
       "      <th>8296</th>\n",
       "      <td>Home-invaders pose as NYC police</td>\n",
       "      <td>clickbait</td>\n",
       "    </tr>\n",
       "    <tr>\n",
       "      <th>7848</th>\n",
       "      <td>Emergency spacewalks planned to fix Internatio...</td>\n",
       "      <td>clickbait</td>\n",
       "    </tr>\n",
       "    <tr>\n",
       "      <th>...</th>\n",
       "      <td>...</td>\n",
       "      <td>...</td>\n",
       "    </tr>\n",
       "    <tr>\n",
       "      <th>27242</th>\n",
       "      <td>Can You Remember The First Episode Of \"Full Ho...</td>\n",
       "      <td>not-clickbait</td>\n",
       "    </tr>\n",
       "    <tr>\n",
       "      <th>17915</th>\n",
       "      <td>Let's See How Well You Remember The First Epis...</td>\n",
       "      <td>not-clickbait</td>\n",
       "    </tr>\n",
       "    <tr>\n",
       "      <th>17761</th>\n",
       "      <td>How Well Do You Remember The Lyrics To Panic! ...</td>\n",
       "      <td>not-clickbait</td>\n",
       "    </tr>\n",
       "    <tr>\n",
       "      <th>23308</th>\n",
       "      <td>Are You More Severus Snape Or Albus Dumbledore</td>\n",
       "      <td>not-clickbait</td>\n",
       "    </tr>\n",
       "    <tr>\n",
       "      <th>19985</th>\n",
       "      <td>Urban Decay Released A Gwen Stefani Palette An...</td>\n",
       "      <td>not-clickbait</td>\n",
       "    </tr>\n",
       "  </tbody>\n",
       "</table>\n",
       "<p>10050 rows × 2 columns</p>\n",
       "</div>"
      ]
     },
     "metadata": {}
    }
   ],
   "metadata": {}
  },
  {
   "cell_type": "code",
   "execution_count": 51,
   "source": [
    "#Lets save the data\r\n",
    "data.to_csv(\"Data.csv\")"
   ],
   "outputs": [],
   "metadata": {}
  },
  {
   "cell_type": "code",
   "execution_count": 47,
   "source": [
    "#Now lets split the data\r\n",
    "from sklearn.model_selection import train_test_split\r\n",
    "train, test = train_test_split(data, shuffle = True, stratify = data.label, train_size = 50/data.shape[0], random_state = 50)\r\n"
   ],
   "outputs": [],
   "metadata": {}
  },
  {
   "cell_type": "code",
   "execution_count": 48,
   "source": [
    "train.shape"
   ],
   "outputs": [
    {
     "output_type": "execute_result",
     "data": {
      "text/plain": [
       "(50, 2)"
      ]
     },
     "metadata": {},
     "execution_count": 48
    }
   ],
   "metadata": {}
  },
  {
   "cell_type": "code",
   "execution_count": 49,
   "source": [
    "test.shape"
   ],
   "outputs": [
    {
     "output_type": "execute_result",
     "data": {
      "text/plain": [
       "(10000, 2)"
      ]
     },
     "metadata": {},
     "execution_count": 49
    }
   ],
   "metadata": {}
  },
  {
   "cell_type": "code",
   "execution_count": 50,
   "source": [
    "train.sample(10)"
   ],
   "outputs": [
    {
     "output_type": "execute_result",
     "data": {
      "text/plain": [
       "                                                   title          label\n",
       "8014               Yamaguchi Is Off the Ice, and at Home      clickbait\n",
       "9179   Human Rights Watch publish documents alleging ...      clickbait\n",
       "22279  This Reunion Interview With The Cast Of \"Willy...  not-clickbait\n",
       "778    Thai political talk show taken off during medi...      clickbait\n",
       "6590                 Money Manager Is Missing in Florida      clickbait\n",
       "19619   14 Crazy Tricks That'll Actually Make You Warmer  not-clickbait\n",
       "26544  \"Top Gear\" Has Seven Presenters Now And People...  not-clickbait\n",
       "3419   Lakers Top Rockets to Advance to Western Confe...      clickbait\n",
       "9023                 US and UK forces join Libyan attack      clickbait\n",
       "29105  The 25 Most GIF-Worthy Moments Of The 2015 Blu...  not-clickbait"
      ],
      "text/html": [
       "<div>\n",
       "<style scoped>\n",
       "    .dataframe tbody tr th:only-of-type {\n",
       "        vertical-align: middle;\n",
       "    }\n",
       "\n",
       "    .dataframe tbody tr th {\n",
       "        vertical-align: top;\n",
       "    }\n",
       "\n",
       "    .dataframe thead th {\n",
       "        text-align: right;\n",
       "    }\n",
       "</style>\n",
       "<table border=\"1\" class=\"dataframe\">\n",
       "  <thead>\n",
       "    <tr style=\"text-align: right;\">\n",
       "      <th></th>\n",
       "      <th>title</th>\n",
       "      <th>label</th>\n",
       "    </tr>\n",
       "  </thead>\n",
       "  <tbody>\n",
       "    <tr>\n",
       "      <th>8014</th>\n",
       "      <td>Yamaguchi Is Off the Ice, and at Home</td>\n",
       "      <td>clickbait</td>\n",
       "    </tr>\n",
       "    <tr>\n",
       "      <th>9179</th>\n",
       "      <td>Human Rights Watch publish documents alleging ...</td>\n",
       "      <td>clickbait</td>\n",
       "    </tr>\n",
       "    <tr>\n",
       "      <th>22279</th>\n",
       "      <td>This Reunion Interview With The Cast Of \"Willy...</td>\n",
       "      <td>not-clickbait</td>\n",
       "    </tr>\n",
       "    <tr>\n",
       "      <th>778</th>\n",
       "      <td>Thai political talk show taken off during medi...</td>\n",
       "      <td>clickbait</td>\n",
       "    </tr>\n",
       "    <tr>\n",
       "      <th>6590</th>\n",
       "      <td>Money Manager Is Missing in Florida</td>\n",
       "      <td>clickbait</td>\n",
       "    </tr>\n",
       "    <tr>\n",
       "      <th>19619</th>\n",
       "      <td>14 Crazy Tricks That'll Actually Make You Warmer</td>\n",
       "      <td>not-clickbait</td>\n",
       "    </tr>\n",
       "    <tr>\n",
       "      <th>26544</th>\n",
       "      <td>\"Top Gear\" Has Seven Presenters Now And People...</td>\n",
       "      <td>not-clickbait</td>\n",
       "    </tr>\n",
       "    <tr>\n",
       "      <th>3419</th>\n",
       "      <td>Lakers Top Rockets to Advance to Western Confe...</td>\n",
       "      <td>clickbait</td>\n",
       "    </tr>\n",
       "    <tr>\n",
       "      <th>9023</th>\n",
       "      <td>US and UK forces join Libyan attack</td>\n",
       "      <td>clickbait</td>\n",
       "    </tr>\n",
       "    <tr>\n",
       "      <th>29105</th>\n",
       "      <td>The 25 Most GIF-Worthy Moments Of The 2015 Blu...</td>\n",
       "      <td>not-clickbait</td>\n",
       "    </tr>\n",
       "  </tbody>\n",
       "</table>\n",
       "</div>"
      ]
     },
     "metadata": {},
     "execution_count": 50
    }
   ],
   "metadata": {}
  },
  {
   "cell_type": "code",
   "execution_count": null,
   "source": [],
   "outputs": [],
   "metadata": {}
  }
 ],
 "metadata": {
  "orig_nbformat": 4,
  "language_info": {
   "name": "python",
   "version": "3.9.6",
   "mimetype": "text/x-python",
   "codemirror_mode": {
    "name": "ipython",
    "version": 3
   },
   "pygments_lexer": "ipython3",
   "nbconvert_exporter": "python",
   "file_extension": ".py"
  },
  "kernelspec": {
   "name": "python3",
   "display_name": "Python 3.9.6 64-bit"
  },
  "interpreter": {
   "hash": "8d521d459ec3225008c2d6977889a9cb7e59e00a9c62c49bf3e7315794ab2e24"
  }
 },
 "nbformat": 4,
 "nbformat_minor": 2
}