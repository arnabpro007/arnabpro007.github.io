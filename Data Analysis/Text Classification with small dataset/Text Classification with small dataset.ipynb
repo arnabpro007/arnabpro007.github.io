{
 "cells": [
  {
   "cell_type": "markdown",
   "source": [
    "## What is clickbait?\r\n",
    "Click bait is a form of false advertisement which uses a hyperlink text or a thumbnail link that is designed to attract attention and entice users to follow that link and read, view or listen to the linked piece of online content, with a defining charecteristic of being deceptive, typically sensationalized or misleading.\r\n",
    "https://towardsdatascience.com/text-classification-with-extremely-small-datasets-333d322caee2"
   ],
   "metadata": {}
  },
  {
   "cell_type": "code",
   "execution_count": 1,
   "source": [
    "import numpy as np\r\n",
    "import pandas as pd"
   ],
   "outputs": [],
   "metadata": {}
  },
  {
   "cell_type": "code",
   "execution_count": 6,
   "source": [
    "ls"
   ],
   "outputs": [
    {
     "output_type": "stream",
     "name": "stdout",
     "text": [
      " Volume in drive C has no label.\n",
      " Volume Serial Number is B4CF-A33C\n",
      "\n",
      " Directory of c:\\Users\\Arnab\\Documents\\GitHub\\arnabpro007.github.io\\Data Analysis\\Text Classification with small dataset\n",
      "\n",
      "31-08-2021  19:58    <DIR>          .\n",
      "31-08-2021  19:58    <DIR>          ..\n",
      "15-12-2016  17:25           923,965 clickbait_data\n",
      "15-12-2016  17:25           856,139 non_clickbait_data\n",
      "31-08-2021  16:00               579 Text Classification with small dataset.ipynb\n",
      "               3 File(s)      1,780,683 bytes\n",
      "               2 Dir(s)  950,237,097,984 bytes free\n"
     ]
    }
   ],
   "metadata": {}
  },
  {
   "cell_type": "code",
   "execution_count": 9,
   "source": [
    "#First challenge I am facing is even creating this dataset, as I can't use pandas to directly read it.\r\n",
    "with open(\"clickbait_data\") as file:\r\n",
    "    lines = file.readlines()\r\n",
    "    lines = [line.rstrip() for line in lines]\r\n",
    "\r\n",
    "#we are falsely adding white space in the list as well so we will remove those\r\n",
    "click_bait = []\r\n",
    "for ele in lines:\r\n",
    "    if ele.strip():\r\n",
    "        click_bait.append(ele)"
   ],
   "outputs": [],
   "metadata": {}
  },
  {
   "cell_type": "code",
   "execution_count": 11,
   "source": [
    "len(click_bait)"
   ],
   "outputs": [
    {
     "output_type": "execute_result",
     "data": {
      "text/plain": [
       "15999"
      ]
     },
     "metadata": {},
     "execution_count": 11
    }
   ],
   "metadata": {}
  },
  {
   "cell_type": "code",
   "execution_count": 17,
   "source": [
    "file.close()"
   ],
   "outputs": [],
   "metadata": {}
  },
  {
   "cell_type": "code",
   "execution_count": 19,
   "source": [
    "with open(\"non_clickbait_data\",encoding=\"utf8\") as file:\r\n",
    "    lines = file.readlines()\r\n",
    "    lines = [line.rstrip() for line in lines]\r\n",
    "\r\n",
    "#we are falsely adding white space in the list as well so we will remove those\r\n",
    "non_click_bait = []\r\n",
    "for ele in lines:\r\n",
    "    if ele.strip():\r\n",
    "        non_click_bait.append(ele)"
   ],
   "outputs": [],
   "metadata": {}
  },
  {
   "cell_type": "code",
   "execution_count": 20,
   "source": [
    "len(non_click_bait)"
   ],
   "outputs": [
    {
     "output_type": "execute_result",
     "data": {
      "text/plain": [
       "16001"
      ]
     },
     "metadata": {},
     "execution_count": 20
    }
   ],
   "metadata": {}
  },
  {
   "cell_type": "code",
   "execution_count": 21,
   "source": [
    "file.close()"
   ],
   "outputs": [],
   "metadata": {}
  },
  {
   "cell_type": "code",
   "execution_count": 30,
   "source": [
    "temp = non_click_bait + click_bait"
   ],
   "outputs": [],
   "metadata": {}
  },
  {
   "cell_type": "code",
   "execution_count": 31,
   "source": [
    "len(temp)"
   ],
   "outputs": [
    {
     "output_type": "execute_result",
     "data": {
      "text/plain": [
       "32000"
      ]
     },
     "metadata": {},
     "execution_count": 31
    }
   ],
   "metadata": {}
  },
  {
   "cell_type": "code",
   "execution_count": 39,
   "source": [
    "words = [\"clickbait\",\"not-clickbait\"]\r\n",
    "y =[]\r\n",
    "for i in range(15999):\r\n",
    "    y = y + [words[0]]\r\n",
    "for i in range(16001):\r\n",
    "    y = y + [words[1]]"
   ],
   "outputs": [],
   "metadata": {}
  },
  {
   "cell_type": "code",
   "execution_count": 42,
   "source": [
    "data = {\"title\":temp,\"label\":y}\r\n",
    "\r\n",
    "data = pd.DataFrame(data)"
   ],
   "outputs": [],
   "metadata": {}
  },
  {
   "cell_type": "code",
   "execution_count": 43,
   "source": [
    "display(data)"
   ],
   "outputs": [
    {
     "output_type": "display_data",
     "data": {
      "text/plain": [
       "                                                   title          label\n",
       "0      Bill Changing Credit Card Rules Is Sent to Oba...      clickbait\n",
       "1      In Hollywood, the Easy-Money Generation Toughe...      clickbait\n",
       "2      1700 runners still unaccounted for in UK's Lak...      clickbait\n",
       "3      Yankees Pitchers Trade Fielding Drills for Put...      clickbait\n",
       "4      Large earthquake rattles Indonesia; Seventh in...      clickbait\n",
       "...                                                  ...            ...\n",
       "31995  There Was A Mini \"Sisterhood Of The Traveling ...  not-clickbait\n",
       "31996    21 Dogs Who Are Thankful For Their Best Friends  not-clickbait\n",
       "31997  People Are Proving No Dick Is Too Big By Dropp...  not-clickbait\n",
       "31998                        I'm An Atheist, But I'm Not  not-clickbait\n",
       "31999  An Artist Drew Disney Men As Justin Bieber And...  not-clickbait\n",
       "\n",
       "[32000 rows x 2 columns]"
      ],
      "text/html": [
       "<div>\n",
       "<style scoped>\n",
       "    .dataframe tbody tr th:only-of-type {\n",
       "        vertical-align: middle;\n",
       "    }\n",
       "\n",
       "    .dataframe tbody tr th {\n",
       "        vertical-align: top;\n",
       "    }\n",
       "\n",
       "    .dataframe thead th {\n",
       "        text-align: right;\n",
       "    }\n",
       "</style>\n",
       "<table border=\"1\" class=\"dataframe\">\n",
       "  <thead>\n",
       "    <tr style=\"text-align: right;\">\n",
       "      <th></th>\n",
       "      <th>title</th>\n",
       "      <th>label</th>\n",
       "    </tr>\n",
       "  </thead>\n",
       "  <tbody>\n",
       "    <tr>\n",
       "      <th>0</th>\n",
       "      <td>Bill Changing Credit Card Rules Is Sent to Oba...</td>\n",
       "      <td>clickbait</td>\n",
       "    </tr>\n",
       "    <tr>\n",
       "      <th>1</th>\n",
       "      <td>In Hollywood, the Easy-Money Generation Toughe...</td>\n",
       "      <td>clickbait</td>\n",
       "    </tr>\n",
       "    <tr>\n",
       "      <th>2</th>\n",
       "      <td>1700 runners still unaccounted for in UK's Lak...</td>\n",
       "      <td>clickbait</td>\n",
       "    </tr>\n",
       "    <tr>\n",
       "      <th>3</th>\n",
       "      <td>Yankees Pitchers Trade Fielding Drills for Put...</td>\n",
       "      <td>clickbait</td>\n",
       "    </tr>\n",
       "    <tr>\n",
       "      <th>4</th>\n",
       "      <td>Large earthquake rattles Indonesia; Seventh in...</td>\n",
       "      <td>clickbait</td>\n",
       "    </tr>\n",
       "    <tr>\n",
       "      <th>...</th>\n",
       "      <td>...</td>\n",
       "      <td>...</td>\n",
       "    </tr>\n",
       "    <tr>\n",
       "      <th>31995</th>\n",
       "      <td>There Was A Mini \"Sisterhood Of The Traveling ...</td>\n",
       "      <td>not-clickbait</td>\n",
       "    </tr>\n",
       "    <tr>\n",
       "      <th>31996</th>\n",
       "      <td>21 Dogs Who Are Thankful For Their Best Friends</td>\n",
       "      <td>not-clickbait</td>\n",
       "    </tr>\n",
       "    <tr>\n",
       "      <th>31997</th>\n",
       "      <td>People Are Proving No Dick Is Too Big By Dropp...</td>\n",
       "      <td>not-clickbait</td>\n",
       "    </tr>\n",
       "    <tr>\n",
       "      <th>31998</th>\n",
       "      <td>I'm An Atheist, But I'm Not</td>\n",
       "      <td>not-clickbait</td>\n",
       "    </tr>\n",
       "    <tr>\n",
       "      <th>31999</th>\n",
       "      <td>An Artist Drew Disney Men As Justin Bieber And...</td>\n",
       "      <td>not-clickbait</td>\n",
       "    </tr>\n",
       "  </tbody>\n",
       "</table>\n",
       "<p>32000 rows × 2 columns</p>\n",
       "</div>"
      ]
     },
     "metadata": {}
    }
   ],
   "metadata": {}
  },
  {
   "cell_type": "code",
   "execution_count": 44,
   "source": [
    "#Now we will shuffle it and pick 10050 of it\r\n",
    "data = data.reindex(np.random.permutation(data.index))\r\n",
    "data = data[:10050]"
   ],
   "outputs": [],
   "metadata": {}
  },
  {
   "cell_type": "code",
   "execution_count": 45,
   "source": [
    "display(data)"
   ],
   "outputs": [
    {
     "output_type": "display_data",
     "data": {
      "text/plain": [
       "                                                   title          label\n",
       "9708           Doctors Face Fiscal Squeeze for Treatment      clickbait\n",
       "26860  7 Perfectly Appropriate Responses To Someone A...  not-clickbait\n",
       "24266         13 Insanely Easy Three-Ingredient Desserts  not-clickbait\n",
       "8296                    Home-invaders pose as NYC police      clickbait\n",
       "7848   Emergency spacewalks planned to fix Internatio...      clickbait\n",
       "...                                                  ...            ...\n",
       "27242  Can You Remember The First Episode Of \"Full Ho...  not-clickbait\n",
       "17915  Let's See How Well You Remember The First Epis...  not-clickbait\n",
       "17761  How Well Do You Remember The Lyrics To Panic! ...  not-clickbait\n",
       "23308     Are You More Severus Snape Or Albus Dumbledore  not-clickbait\n",
       "19985  Urban Decay Released A Gwen Stefani Palette An...  not-clickbait\n",
       "\n",
       "[10050 rows x 2 columns]"
      ],
      "text/html": [
       "<div>\n",
       "<style scoped>\n",
       "    .dataframe tbody tr th:only-of-type {\n",
       "        vertical-align: middle;\n",
       "    }\n",
       "\n",
       "    .dataframe tbody tr th {\n",
       "        vertical-align: top;\n",
       "    }\n",
       "\n",
       "    .dataframe thead th {\n",
       "        text-align: right;\n",
       "    }\n",
       "</style>\n",
       "<table border=\"1\" class=\"dataframe\">\n",
       "  <thead>\n",
       "    <tr style=\"text-align: right;\">\n",
       "      <th></th>\n",
       "      <th>title</th>\n",
       "      <th>label</th>\n",
       "    </tr>\n",
       "  </thead>\n",
       "  <tbody>\n",
       "    <tr>\n",
       "      <th>9708</th>\n",
       "      <td>Doctors Face Fiscal Squeeze for Treatment</td>\n",
       "      <td>clickbait</td>\n",
       "    </tr>\n",
       "    <tr>\n",
       "      <th>26860</th>\n",
       "      <td>7 Perfectly Appropriate Responses To Someone A...</td>\n",
       "      <td>not-clickbait</td>\n",
       "    </tr>\n",
       "    <tr>\n",
       "      <th>24266</th>\n",
       "      <td>13 Insanely Easy Three-Ingredient Desserts</td>\n",
       "      <td>not-clickbait</td>\n",
       "    </tr>\n",
       "    <tr>\n",
       "      <th>8296</th>\n",
       "      <td>Home-invaders pose as NYC police</td>\n",
       "      <td>clickbait</td>\n",
       "    </tr>\n",
       "    <tr>\n",
       "      <th>7848</th>\n",
       "      <td>Emergency spacewalks planned to fix Internatio...</td>\n",
       "      <td>clickbait</td>\n",
       "    </tr>\n",
       "    <tr>\n",
       "      <th>...</th>\n",
       "      <td>...</td>\n",
       "      <td>...</td>\n",
       "    </tr>\n",
       "    <tr>\n",
       "      <th>27242</th>\n",
       "      <td>Can You Remember The First Episode Of \"Full Ho...</td>\n",
       "      <td>not-clickbait</td>\n",
       "    </tr>\n",
       "    <tr>\n",
       "      <th>17915</th>\n",
       "      <td>Let's See How Well You Remember The First Epis...</td>\n",
       "      <td>not-clickbait</td>\n",
       "    </tr>\n",
       "    <tr>\n",
       "      <th>17761</th>\n",
       "      <td>How Well Do You Remember The Lyrics To Panic! ...</td>\n",
       "      <td>not-clickbait</td>\n",
       "    </tr>\n",
       "    <tr>\n",
       "      <th>23308</th>\n",
       "      <td>Are You More Severus Snape Or Albus Dumbledore</td>\n",
       "      <td>not-clickbait</td>\n",
       "    </tr>\n",
       "    <tr>\n",
       "      <th>19985</th>\n",
       "      <td>Urban Decay Released A Gwen Stefani Palette An...</td>\n",
       "      <td>not-clickbait</td>\n",
       "    </tr>\n",
       "  </tbody>\n",
       "</table>\n",
       "<p>10050 rows × 2 columns</p>\n",
       "</div>"
      ]
     },
     "metadata": {}
    }
   ],
   "metadata": {}
  },
  {
   "cell_type": "code",
   "execution_count": 51,
   "source": [
    "#Lets save the data\r\n",
    "data.to_csv(\"Data.csv\")"
   ],
   "outputs": [],
   "metadata": {}
  },
  {
   "cell_type": "code",
   "execution_count": 2,
   "source": [
    "data = pd.read_csv(\"Data.csv\")"
   ],
   "outputs": [],
   "metadata": {}
  },
  {
   "cell_type": "code",
   "execution_count": 3,
   "source": [
    "#Now lets split the data\r\n",
    "from sklearn.model_selection import train_test_split\r\n",
    "train, test = train_test_split(data, shuffle = True, stratify = data.label, train_size = 50/data.shape[0], random_state = 50)\r\n"
   ],
   "outputs": [],
   "metadata": {}
  },
  {
   "cell_type": "code",
   "execution_count": 4,
   "source": [
    "train.shape"
   ],
   "outputs": [
    {
     "output_type": "execute_result",
     "data": {
      "text/plain": [
       "(50, 3)"
      ]
     },
     "metadata": {},
     "execution_count": 4
    }
   ],
   "metadata": {}
  },
  {
   "cell_type": "code",
   "execution_count": 5,
   "source": [
    "test.shape"
   ],
   "outputs": [
    {
     "output_type": "execute_result",
     "data": {
      "text/plain": [
       "(10000, 3)"
      ]
     },
     "metadata": {},
     "execution_count": 5
    }
   ],
   "metadata": {}
  },
  {
   "cell_type": "code",
   "execution_count": 6,
   "source": [
    "train.sample(10)"
   ],
   "outputs": [
    {
     "output_type": "execute_result",
     "data": {
      "text/plain": [
       "      Unnamed: 0                                              title  \\\n",
       "2848        4309  Facebook to share the technology 'behind its s...   \n",
       "8484        6184       Rockets Defy Logic by Dominating Without Yao   \n",
       "8754         778  Thai political talk show taken off during medi...   \n",
       "9826       21342      We Need To Talk About How Sexy Jared Keeso Is   \n",
       "7669       21821  17 Heartbreaking Confessions From People Who C...   \n",
       "3125        3010   Mortar exchange kills thirteen in Somali capital   \n",
       "8745       26515  #COCKROACHESANDCHER Is The Most Important Hash...   \n",
       "1822        3066                   Glastonbury headliners announced   \n",
       "9869       15111  SLM shareholders led by Martin Garbus sue Spid...   \n",
       "3319       18895  This Trailer For Bromances Is Everything You Need   \n",
       "\n",
       "              label  \n",
       "2848      clickbait  \n",
       "8484      clickbait  \n",
       "8754      clickbait  \n",
       "9826  not-clickbait  \n",
       "7669  not-clickbait  \n",
       "3125      clickbait  \n",
       "8745  not-clickbait  \n",
       "1822      clickbait  \n",
       "9869      clickbait  \n",
       "3319  not-clickbait  "
      ],
      "text/html": [
       "<div>\n",
       "<style scoped>\n",
       "    .dataframe tbody tr th:only-of-type {\n",
       "        vertical-align: middle;\n",
       "    }\n",
       "\n",
       "    .dataframe tbody tr th {\n",
       "        vertical-align: top;\n",
       "    }\n",
       "\n",
       "    .dataframe thead th {\n",
       "        text-align: right;\n",
       "    }\n",
       "</style>\n",
       "<table border=\"1\" class=\"dataframe\">\n",
       "  <thead>\n",
       "    <tr style=\"text-align: right;\">\n",
       "      <th></th>\n",
       "      <th>Unnamed: 0</th>\n",
       "      <th>title</th>\n",
       "      <th>label</th>\n",
       "    </tr>\n",
       "  </thead>\n",
       "  <tbody>\n",
       "    <tr>\n",
       "      <th>2848</th>\n",
       "      <td>4309</td>\n",
       "      <td>Facebook to share the technology 'behind its s...</td>\n",
       "      <td>clickbait</td>\n",
       "    </tr>\n",
       "    <tr>\n",
       "      <th>8484</th>\n",
       "      <td>6184</td>\n",
       "      <td>Rockets Defy Logic by Dominating Without Yao</td>\n",
       "      <td>clickbait</td>\n",
       "    </tr>\n",
       "    <tr>\n",
       "      <th>8754</th>\n",
       "      <td>778</td>\n",
       "      <td>Thai political talk show taken off during medi...</td>\n",
       "      <td>clickbait</td>\n",
       "    </tr>\n",
       "    <tr>\n",
       "      <th>9826</th>\n",
       "      <td>21342</td>\n",
       "      <td>We Need To Talk About How Sexy Jared Keeso Is</td>\n",
       "      <td>not-clickbait</td>\n",
       "    </tr>\n",
       "    <tr>\n",
       "      <th>7669</th>\n",
       "      <td>21821</td>\n",
       "      <td>17 Heartbreaking Confessions From People Who C...</td>\n",
       "      <td>not-clickbait</td>\n",
       "    </tr>\n",
       "    <tr>\n",
       "      <th>3125</th>\n",
       "      <td>3010</td>\n",
       "      <td>Mortar exchange kills thirteen in Somali capital</td>\n",
       "      <td>clickbait</td>\n",
       "    </tr>\n",
       "    <tr>\n",
       "      <th>8745</th>\n",
       "      <td>26515</td>\n",
       "      <td>#COCKROACHESANDCHER Is The Most Important Hash...</td>\n",
       "      <td>not-clickbait</td>\n",
       "    </tr>\n",
       "    <tr>\n",
       "      <th>1822</th>\n",
       "      <td>3066</td>\n",
       "      <td>Glastonbury headliners announced</td>\n",
       "      <td>clickbait</td>\n",
       "    </tr>\n",
       "    <tr>\n",
       "      <th>9869</th>\n",
       "      <td>15111</td>\n",
       "      <td>SLM shareholders led by Martin Garbus sue Spid...</td>\n",
       "      <td>clickbait</td>\n",
       "    </tr>\n",
       "    <tr>\n",
       "      <th>3319</th>\n",
       "      <td>18895</td>\n",
       "      <td>This Trailer For Bromances Is Everything You Need</td>\n",
       "      <td>not-clickbait</td>\n",
       "    </tr>\n",
       "  </tbody>\n",
       "</table>\n",
       "</div>"
      ]
     },
     "metadata": {},
     "execution_count": 6
    }
   ],
   "metadata": {}
  },
  {
   "cell_type": "markdown",
   "source": [
    "## Adversarial Validation"
   ],
   "metadata": {}
  },
  {
   "cell_type": "code",
   "execution_count": 6,
   "source": [
    "from scipy import sparse\r\n",
    "from sklearn.metrics import roc_auc_score\r\n",
    "from sklearn.ensemble import RandomForestClassifier\r\n",
    "from sklearn.linear_model import SGDClassifier\r\n",
    "from sklearn.model_selection import StratifiedKFold\r\n",
    "\r\n",
    "\r\n",
    "def adversarial_validation(X, Y, n_splits = 10):\r\n",
    "    \r\n",
    "    # Combine both datasets\r\n",
    "    sparse_merge = sparse.vstack((X, Y))\r\n",
    "    \r\n",
    "    # Label the datasets\r\n",
    "    y = np.array([0 for _ in range(X.shape[0])] + [1 for _ in range(Y.shape[0])])\r\n",
    "    \r\n",
    "    # Do 10 Fold CV \r\n",
    "    kfold = StratifiedKFold(n_splits = n_splits, shuffle = True)\r\n",
    "\r\n",
    "    lr_auc = np.array([])\r\n",
    "    rf_auc = np.array([])\r\n",
    "    for train_idx, test_idx in kfold.split(sparse_merge, y):\r\n",
    "    \r\n",
    "        #Run Log Reg\r\n",
    "        x_train, y_train = sparse_merge[train_idx], y[train_idx]\r\n",
    "        x_test, y_test = sparse_merge[test_idx], y[test_idx]\r\n",
    "        \r\n",
    "        log_reg = SGDClassifier(loss = 'log')\r\n",
    "        log_reg.fit(x_train, y_train)\r\n",
    "        y_test_prob = log_reg.predict_proba(x_test)[:,1]\r\n",
    "        lr_auc = np.append(lr_auc, roc_auc_score(y_test, y_test_prob))\r\n",
    "        # Run RF\r\n",
    "        rf = RandomForestClassifier(n_estimators = 100, n_jobs = -1)\r\n",
    "        rf.fit(x_train, y_train)\r\n",
    "        y_test_prob = rf.predict_proba(x_test)[:,1]\r\n",
    "        rf_auc = np.append(rf_auc, roc_auc_score(y_test, y_test_prob))\r\n",
    "\r\n",
    "    \r\n",
    "    # Display results\r\n",
    "    print('Logisitic Regression AUC : {:.3f}'.format(lr_auc.mean()))\r\n",
    "    print('Random Forest AUC : {:.3f}'.format(rf_auc.mean())) "
   ],
   "outputs": [],
   "metadata": {}
  },
  {
   "cell_type": "code",
   "execution_count": 7,
   "source": [
    "# We will use bag of words to encode the title before using the validation\r\n",
    "\r\n",
    "from sklearn.feature_extraction.text import CountVectorizer\r\n",
    "bow = CountVectorizer()\r\n",
    "\r\n",
    "x_train = bow.fit_transform(train.title.values)\r\n",
    "x_test = bow.transform(test.title.values)\r\n",
    "adversarial_validation(x_train, x_test[:50])"
   ],
   "outputs": [
    {
     "output_type": "stream",
     "name": "stdout",
     "text": [
      "Logisitic Regression AUC : 0.444\n",
      "Random Forest AUC : 0.526\n"
     ]
    }
   ],
   "metadata": {}
  },
  {
   "cell_type": "markdown",
   "source": [
    "## Simple Exploratory Data Analysis"
   ],
   "metadata": {}
  },
  {
   "cell_type": "code",
   "execution_count": 4,
   "source": [
    "print('Train Positive Class % : {:.1f}'.format((sum(train.label == 'clickbait')/train.shape[0])*100))\r\n",
    "print('Test Positive Class % : {:.1f}'.format((sum(test.label == 'clickbait')/test.shape[0])*100))\r\n",
    "print('Train Size: {}'.format(train.shape[0]))\r\n",
    "print('Test Size: {}'.format(test.shape[0]))"
   ],
   "outputs": [
    {
     "output_type": "stream",
     "name": "stdout",
     "text": [
      "Train Positive Class % : 50.0\n",
      "Test Positive Class % : 50.0\n",
      "Train Size: 50\n",
      "Test Size: 10000\n"
     ]
    }
   ],
   "metadata": {}
  },
  {
   "cell_type": "code",
   "execution_count": null,
   "source": [],
   "outputs": [],
   "metadata": {}
  }
 ],
 "metadata": {
  "orig_nbformat": 4,
  "language_info": {
   "name": "python",
   "version": "3.9.6",
   "mimetype": "text/x-python",
   "codemirror_mode": {
    "name": "ipython",
    "version": 3
   },
   "pygments_lexer": "ipython3",
   "nbconvert_exporter": "python",
   "file_extension": ".py"
  },
  "kernelspec": {
   "name": "python3",
   "display_name": "Python 3.9.6 64-bit"
  },
  "interpreter": {
   "hash": "8d521d459ec3225008c2d6977889a9cb7e59e00a9c62c49bf3e7315794ab2e24"
  }
 },
 "nbformat": 4,
 "nbformat_minor": 2
}