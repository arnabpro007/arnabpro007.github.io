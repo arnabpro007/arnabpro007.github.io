{
 "cells": [
  {
   "cell_type": "markdown",
   "metadata": {},
   "source": [
    "# Testing and Debugging\n",
    "\n",
    "Testing is the process of running a program to try and ascertain whether it works as intended. Debugging is the process of trying to fix a program that you already know does not work as inteded. <br>\n",
    "\n",
    "Testing and debugging are not processes that you should begin to think after a programm has been built. Good programmers design their programs in ways that make them easier to test and debug. The key to doing this is breaking the program up into separate components that can be implemented , tested, and debugged independently of other components.<br>\n",
    "\n",
    "## Testing:\n",
    "The most important thing to say about testing is that its purpose is to show that bugs exist, not to show that a program is bug-free. To quote Edsger Dijkstra, \"Program testing can be used to show the presence of bugs but never to show their absence\". <br>\n",
    "\n",
    "The key to testing is finding a collection of inputs, called a test-suite, that has a high likelihood of revealing bugs, yet does not take too long to run. The key to doing that is partitioning the space of all possible inputs into subsets that provide equivalent information about the correctness of the program, and then constructing a test suite that contains at least one input from each partition. (Usually constructing such a test suite is not actually possible. Think of this as an unachievable ideal). <br>\n",
    "\n",
    "A partition of a set divides the set into a collection of subsets such that each element of the original set belongs to exactly one of the subsets. If one tested the implementation on atleast one value from each of these subsets, there would be reasonable probability (but no guarantee) of exposing a bug if one exists. <br>\n",
    "\n",
    "For most programs, finding a good partitioning of the inputs is far easier said than done. Typically, people rely on heuristics based on exploring different paths through some combination of the code and the specifications. Heuristics based on exploring paths through the could fall into a ckass called glass-box testing. Heuristics based on exploring paths through the specification fall into a class called black-box-testing. <br>\n",
    "\n"
   ]
  },
  {
   "cell_type": "code",
   "execution_count": null,
   "metadata": {},
   "outputs": [],
   "source": []
  }
 ],
 "metadata": {
  "kernelspec": {
   "display_name": "Python 3",
   "language": "python",
   "name": "python3"
  },
  "language_info": {
   "codemirror_mode": {
    "name": "ipython",
    "version": 3
   },
   "file_extension": ".py",
   "mimetype": "text/x-python",
   "name": "python",
   "nbconvert_exporter": "python",
   "pygments_lexer": "ipython3",
   "version": "3.8.3"
  }
 },
 "nbformat": 4,
 "nbformat_minor": 4
}
